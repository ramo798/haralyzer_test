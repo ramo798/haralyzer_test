{
 "cells": [
  {
   "cell_type": "code",
   "execution_count": 10,
   "metadata": {},
   "outputs": [],
   "source": [
    "from haralyzer import HarParser\n",
    "import json\n",
    "\n",
    "with open('202406090358-12.har', 'r', encoding='utf-8-sig') as f:\n",
    "    har_parser = HarParser(json.loads(f.read()))\n"
   ]
  },
  {
   "cell_type": "code",
   "execution_count": 20,
   "metadata": {},
   "outputs": [],
   "source": [
    "\n"
   ]
  },
  {
   "cell_type": "code",
   "execution_count": 38,
   "metadata": {},
   "outputs": [],
   "source": [
    "import os\n",
    "\n",
    "def extract_tweet_info(json_data):\n",
    "    # ツイート情報を格納する辞書を初期化\n",
    "    tweet_info = {}\n",
    "\n",
    "    try:\n",
    "        # 必要な情報を取得する\n",
    "        tweet_info['user_name'] = json_data['content']['itemContent']['tweet_results']['result']['core']['user_results']['result']['legacy']['name']\n",
    "        tweet_info['screen_name'] = json_data['content']['itemContent']['tweet_results']['result']['core']['user_results']['result']['legacy']['screen_name']\n",
    "        tweet_info['full_text'] = json_data['content']['itemContent']['tweet_results']['result']['legacy']['full_text']\n",
    "        tweet_info['created_at'] = json_data['content']['itemContent']['tweet_results']['result']['legacy']['created_at']\n",
    "        tweet_info['favorite_count'] = json_data['content']['itemContent']['tweet_results']['result']['legacy']['favorite_count']\n",
    "        tweet_info['retweet_count'] = json_data['content']['itemContent']['tweet_results']['result']['legacy']['retweet_count']\n",
    "        tweet_info['reply_count'] = json_data['content']['itemContent']['tweet_results']['result']['legacy']['reply_count']\n",
    "        tweet_info['quote_count'] = json_data['content']['itemContent']['tweet_results']['result']['legacy']['quote_count']\n",
    "\n",
    "        # メディア情報の取得\n",
    "        if 'extended_entities' in json_data['content']['itemContent']['tweet_results']['result']['legacy']:\n",
    "            tweet_info['media_url_https'] = json_data['content']['itemContent']['tweet_results']['result']['legacy']['extended_entities']['media'][0]['media_url_https']\n",
    "        else:\n",
    "            tweet_info['media_url_https'] = None\n",
    "\n",
    "        # 引用リツイートの情報を取得する\n",
    "        if 'quoted_status_result' in json_data['content']['itemContent']['tweet_results']['result']:\n",
    "            try:\n",
    "                tweet_info['quoted_user_id'] = json_data['content']['itemContent']['tweet_results']['result']['quoted_status_result']['result']['core']['user_results']['result']['rest_id']\n",
    "                tweet_info['quoted_screen_name'] = json_data['content']['itemContent']['tweet_results']['result']['quoted_status_result']['result']['core']['user_results']['result']['legacy']['screen_name']\n",
    "                tweet_info['quoted_full_text'] = json_data['content']['itemContent']['tweet_results']['result']['quoted_status_result']['result']['legacy']['full_text']\n",
    "            except KeyError:\n",
    "                try:\n",
    "                  tweet_info['quoted_user_id'] = json_data['content']['itemContent']['tweet_results']['result']['quoted_status_result']['result']['tweet']['core']['user_results']['result']['rest_id']\n",
    "                  tweet_info['quoted_screen_name'] = json_data['content']['itemContent']['tweet_results']['result']['quoted_status_result']['result']['tweet']['core']['user_results']['result']['legacy']['screen_name']\n",
    "                  tweet_info['quoted_full_text'] = json_data['content']['itemContent']['tweet_results']['result']['quoted_status_result']['result']['tweet']['legacy']['full_text']\n",
    "                except KeyError:\n",
    "                    print(json.dumps(json_data['content']['itemContent']['tweet_results']['result']['quoted_status_result']))\n",
    "                    print('KeyErroraosicjaosijcaoijsc')\n",
    "                    tweet_info['quoted_user_id'] = None\n",
    "                    tweet_info['quoted_screen_name'] = None\n",
    "                    tweet_info['quoted_full_text'] = None\n",
    "        else:\n",
    "            tweet_info['quoted_user_id'] = None\n",
    "            tweet_info['quoted_screen_name'] = None\n",
    "            tweet_info['quoted_full_text'] = None\n",
    "\n",
    "    except KeyError:\n",
    "        tweet_info = None\n",
    "\n",
    "    return tweet_info\n",
    "\n",
    "\n",
    "all_tweet = []\n",
    "for page in har_parser.pages:\n",
    "  entries = page.entries\n",
    "  for entry in entries:\n",
    "      if 'Bookmarks?' in entry.request.url:\n",
    "          json_data = json.loads(entry.response.text)\n",
    "          for instruction in json_data['data']['bookmark_timeline_v2']['timeline']['instructions']:\n",
    "            cursor_count = sum(1 for entry in instruction['entries'] if entry['content']['entryType'] == 'TimelineTimelineCursor')\n",
    "            tweet_count = 0\n",
    "            for i, entry in enumerate(instruction['entries']):\n",
    "              # print(entry)\n",
    "              print(extract_tweet_info(entry))\n",
    "              tweet_count += 1\n",
    "              all_tweet.append(text)\n",
    "\n",
    "          break\n",
    "          if len(instruction['entries']) - cursor_count != tweet_count:\n",
    "            print('sdiouhvslodihvsoidhvsiodhvosihdvosihdvoishdvioh')\n",
    "            os._exit(1)"
   ]
  },
  {
   "cell_type": "code",
   "execution_count": null,
   "metadata": {},
   "outputs": [],
   "source": []
  }
 ],
 "metadata": {
  "kernelspec": {
   "display_name": ".venv",
   "language": "python",
   "name": "python3"
  },
  "language_info": {
   "codemirror_mode": {
    "name": "ipython",
    "version": 3
   },
   "file_extension": ".py",
   "mimetype": "text/x-python",
   "name": "python",
   "nbconvert_exporter": "python",
   "pygments_lexer": "ipython3",
   "version": "3.9.18"
  }
 },
 "nbformat": 4,
 "nbformat_minor": 2
}
